{
 "cells": [
  {
   "cell_type": "markdown",
   "id": "8a6e475c",
   "metadata": {},
   "source": [
    "Google\n",
    "https://youtu.be/2wN3D0jsj9k?si=BnhtquabBGxq_hIA\n",
    "\n",
    "You are given a transaction table, which records transactions between sellers and buyers. The structure of the table is as follows:\n",
    "Transaction ID (INT), Customer_ID (INT) Amount (INT). Date (timestamp)\n",
    "\n",
    "Every successful transaction will have two row entries into the table with two different transaction id but in ascending order sequence, the first one for the seller where their customer_id will be registered, and the second one for the buyer where their customer_id will be registered. The amount and date time for both will however be the same.\n",
    "\n",
    "Write an sql query to find the 5 top seller-buyer combinations who have had maximum transactions between them.\n",
    "\n",
    "Condition-Please disqualify the sellers who have acted as buyers and also the buyers who have acted as sellers for this condition."
   ]
  },
  {
   "cell_type": "code",
   "execution_count": 1,
   "id": "425c6f4c",
   "metadata": {},
   "outputs": [],
   "source": [
    "from pyspark.sql import SparkSession\n",
    "from pyspark import SparkConf, SparkContext"
   ]
  },
  {
   "cell_type": "code",
   "execution_count": 2,
   "id": "2880bf94",
   "metadata": {},
   "outputs": [
    {
     "name": "stderr",
     "output_type": "stream",
     "text": [
      "/usr/local/lib/python3.6/site-packages/pyspark/context.py:238: FutureWarning: Python 3.6 support is deprecated in Spark 3.2.\n",
      "  FutureWarning\n"
     ]
    }
   ],
   "source": [
    "spark = SparkSession.builder \\\n",
    "    .appName(\"application-1\") \\\n",
    "    .enableHiveSupport() \\\n",
    "    .getOrCreate()"
   ]
  },
  {
   "cell_type": "code",
   "execution_count": 3,
   "id": "673f107a",
   "metadata": {},
   "outputs": [],
   "source": [
    " %load_ext sparksql_magic"
   ]
  },
  {
   "cell_type": "code",
   "execution_count": 33,
   "id": "fc861213",
   "metadata": {},
   "outputs": [
    {
     "data": {
      "text/html": [
       "<table><tr style=\"border-bottom: 1px solid\"></tr></table>"
      ],
      "text/plain": [
       "<IPython.core.display.HTML object>"
      ]
     },
     "execution_count": 33,
     "metadata": {},
     "output_type": "execute_result"
    }
   ],
   "source": [
    "%%sparksql\n",
    "DROP TABLE transactions;\n"
   ]
  },
  {
   "cell_type": "code",
   "execution_count": 34,
   "id": "47169a8b",
   "metadata": {},
   "outputs": [
    {
     "data": {
      "text/html": [
       "<table><tr style=\"border-bottom: 1px solid\"></tr></table>"
      ],
      "text/plain": [
       "<IPython.core.display.HTML object>"
      ]
     },
     "execution_count": 34,
     "metadata": {},
     "output_type": "execute_result"
    }
   ],
   "source": [
    "%%sparksql\n",
    "\n",
    "CREATE TABLE transactions (\n",
    "  transaction_id INT,\n",
    "  customer_id INT,\n",
    "  amount INT,\n",
    "  tran_Date STRING\n",
    ") USING PARQUET;"
   ]
  },
  {
   "cell_type": "code",
   "execution_count": 35,
   "id": "45e682b5",
   "metadata": {},
   "outputs": [
    {
     "data": {
      "text/html": [
       "<table><tr style=\"border-bottom: 1px solid\"></tr></table>"
      ],
      "text/plain": [
       "<IPython.core.display.HTML object>"
      ]
     },
     "execution_count": 35,
     "metadata": {},
     "output_type": "execute_result"
    }
   ],
   "source": [
    "%%sparksql\n",
    "\n",
    "\n",
    "INSERT INTO Transactions VALUES \n",
    "    (1, 101, 500, '2025-01-01 10:00:01') \n",
    "  ,(2, 201, 500, '2025-01-01 10:00:01') \n",
    "  ,(3, 102, 300, '2025-01-02 00:50:01') \n",
    "  ,(4, 202, 300, '2025-01-02 00:50:01') \n",
    "  ,(5, 101, 700, '2025-01-03 06:00:01') \n",
    "  ,(6, 202, 700, '2025-01-03 06:00:01') \n",
    "  ,(7, 103, 200, '2025-01-04 03:00:01') \n",
    "  ,(8, 203, 200, '2025-01-04 03:00:01') \n",
    "  ,(9, 101, 400, '2025-01-05 00:10:01') \n",
    "  ,(10, 201, 400, '2025-01-05 00:10:01') \n",
    "  ,(11, 101, 500, '2025-01-07 10:10:01') \n",
    "  ,(12, 201, 500, '2025-01-07 10:10:01') \n",
    "  ,(13, 102, 200, '2025-01-03 10:50:01') \n",
    "  ,(14, 202, 200, '2025-01-03 10:50:01') \n",
    "  ,(15, 103, 500, '2025-01-01 11:00:01') \n",
    "  ,(16, 101, 500, '2025-01-01 11:00:01')\n",
    "  ,(17, 203, 200, '2025-11-01 11:00:01') \n",
    "  ,(18, 201, 200, '2025-11-01 11:00:01')"
   ]
  },
  {
   "cell_type": "code",
   "execution_count": 36,
   "id": "1b1113c9",
   "metadata": {},
   "outputs": [
    {
     "data": {
      "text/html": [
       "<table><tr style=\"border-bottom: 1px solid\"><td style=\"font-weight: bold\">transaction_id</td><td style=\"font-weight: bold\">customer_id</td><td style=\"font-weight: bold\">amount</td><td style=\"font-weight: bold\">tran_Date</td></tr><tr><td>14</td><td>202</td><td>200</td><td>2025-01-03 10:50:01</td></tr><tr><td>15</td><td>103</td><td>500</td><td>2025-01-01 11:00:01</td></tr><tr><td>16</td><td>101</td><td>500</td><td>2025-01-01 11:00:01</td></tr><tr><td>17</td><td>203</td><td>200</td><td>2025-11-01 11:00:01</td></tr><tr><td>18</td><td>201</td><td>200</td><td>2025-11-01 11:00:01</td></tr><tr><td>5</td><td>101</td><td>700</td><td>2025-01-03 06:00:01</td></tr><tr><td>6</td><td>202</td><td>700</td><td>2025-01-03 06:00:01</td></tr><tr><td>7</td><td>103</td><td>200</td><td>2025-01-04 03:00:01</td></tr><tr><td>8</td><td>203</td><td>200</td><td>2025-01-04 03:00:01</td></tr><tr><td>9</td><td>101</td><td>400</td><td>2025-01-05 00:10:01</td></tr><tr><td>1</td><td>101</td><td>500</td><td>2025-01-01 10:00:01</td></tr><tr><td>2</td><td>201</td><td>500</td><td>2025-01-01 10:00:01</td></tr><tr><td>3</td><td>102</td><td>300</td><td>2025-01-02 00:50:01</td></tr><tr><td>4</td><td>202</td><td>300</td><td>2025-01-02 00:50:01</td></tr><tr><td>10</td><td>201</td><td>400</td><td>2025-01-05 00:10:01</td></tr><tr><td>11</td><td>101</td><td>500</td><td>2025-01-07 10:10:01</td></tr><tr><td>12</td><td>201</td><td>500</td><td>2025-01-07 10:10:01</td></tr><tr><td>13</td><td>102</td><td>200</td><td>2025-01-03 10:50:01</td></tr></table>"
      ],
      "text/plain": [
       "<IPython.core.display.HTML object>"
      ]
     },
     "execution_count": 36,
     "metadata": {},
     "output_type": "execute_result"
    }
   ],
   "source": [
    "%%sparksql\n",
    "select * from transactions"
   ]
  },
  {
   "cell_type": "code",
   "execution_count": 37,
   "id": "2136ee31",
   "metadata": {},
   "outputs": [
    {
     "data": {
      "text/html": [
       "<table><tr style=\"border-bottom: 1px solid\"><td style=\"font-weight: bold\">customer_id</td><td style=\"font-weight: bold\">buyer_id</td><td style=\"font-weight: bold\">count(1)</td></tr><tr><td>102</td><td>202</td><td>2</td></tr></table>"
      ],
      "text/plain": [
       "<IPython.core.display.HTML object>"
      ]
     },
     "execution_count": 37,
     "metadata": {},
     "output_type": "execute_result"
    }
   ],
   "source": [
    "%%sparksql\n",
    "\n",
    "WITH CTE as (\n",
    "  select *, LEAD(customer_id, 1) OVER(ORDER BY transaction_id) as buyer_id\n",
    "  FROM\n",
    "  transactions\n",
    "),\n",
    "final as (\n",
    "  select * from CTE where transaction_id % 2 = 1\n",
    "),\n",
    "combination as (\n",
    "  select customer_id, buyer_id, count(*)\n",
    "  FROM\n",
    "  final\n",
    "  group by customer_id, buyer_id\n",
    "),\n",
    "fraud_customers as (\n",
    "  select customer_id as fraud FROM combination\n",
    "  INTERSECT\n",
    "  select buyer_id FROM combination\n",
    ")\n",
    "select *\n",
    "from combination\n",
    "where customer_id not in (select fraud from fraud_customers)\n",
    "and buyer_id not in (select fraud from fraud_customers)"
   ]
  }
 ],
 "metadata": {
  "kernelspec": {
   "display_name": "Python 3",
   "language": "python",
   "name": "python3"
  },
  "language_info": {
   "codemirror_mode": {
    "name": "ipython",
    "version": 3
   },
   "file_extension": ".py",
   "mimetype": "text/x-python",
   "name": "python",
   "nbconvert_exporter": "python",
   "pygments_lexer": "ipython3",
   "version": "3.6.8"
  }
 },
 "nbformat": 4,
 "nbformat_minor": 5
}
