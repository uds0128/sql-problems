{
 "cells": [
  {
   "cell_type": "markdown",
   "metadata": {
    "application/vnd.databricks.v1+cell": {
     "cellMetadata": {},
     "inputWidgets": {},
     "nuid": "77fd224c-3ff3-4397-885d-46a1dec5bc6b",
     "showTitle": false,
     "tableResultSettingsMap": {},
     "title": ""
    }
   },
   "source": [
    "Google\n",
    "https://youtu.be/2wN3D0jsj9k?si=BnhtquabBGxq_hIA\n",
    "\n",
    "You are given a transaction table, which records transactions between sellers and buyers. The structure of the table is as follows:\n",
    "Transaction ID (INT), Customer_ID (INT) Amount (INT). Date (timestamp)\n",
    "\n",
    "Every successful transaction will have two row entries into the table with two different transaction id but in ascending order sequence, the first one for the seller where their customer_id will be registered, and the second one for the buyer where their customer_id will be registered. The amount and date time for both will however be the same.\n",
    "\n",
    "Write an sql query to find the 5 top seller-buyer combinations who have had maximum transactions between them.\n",
    "\n",
    "Condition-Please disqualify the sellers who have acted as buyers and also the buyers who have acted as sellers for this condition."
   ]
  },
  {
   "cell_type": "code",
   "execution_count": 0,
   "metadata": {
    "application/vnd.databricks.v1+cell": {
     "cellMetadata": {
      "byteLimit": 2048000,
      "implicitDf": true,
      "rowLimit": 10000
     },
     "inputWidgets": {},
     "nuid": "7dcd6b59-7a15-4dac-8ffc-03ec40ed08db",
     "showTitle": false,
     "tableResultSettingsMap": {},
     "title": ""
    }
   },
   "outputs": [
    {
     "output_type": "display_data",
     "data": {
      "text/html": [
       "<style scoped>\n",
       "  .table-result-container {\n",
       "    max-height: 300px;\n",
       "    overflow: auto;\n",
       "  }\n",
       "  table, th, td {\n",
       "    border: 1px solid black;\n",
       "    border-collapse: collapse;\n",
       "  }\n",
       "  th, td {\n",
       "    padding: 5px;\n",
       "  }\n",
       "  th {\n",
       "    text-align: left;\n",
       "  }\n",
       "</style><div class='table-result-container'><table class='table-result'><thead style='background-color: white'><tr></tr></thead><tbody></tbody></table></div>"
      ]
     },
     "metadata": {
      "application/vnd.databricks.v1+output": {
       "addedWidgets": {},
       "aggData": [],
       "aggError": "",
       "aggOverflow": false,
       "aggSchema": [],
       "aggSeriesLimitReached": false,
       "aggType": "",
       "arguments": {},
       "columnCustomDisplayInfos": {},
       "data": [],
       "datasetInfos": [],
       "dbfsResultPath": null,
       "isJsonSchema": true,
       "metadata": {
        "isDbfsCommandResult": false
       },
       "overflow": false,
       "plotOptions": {
        "customPlotOptions": {},
        "displayType": "table",
        "pivotAggregation": null,
        "pivotColumns": null,
        "xColumns": null,
        "yColumns": null
       },
       "removedWidgets": [],
       "schema": [],
       "type": "table"
      }
     },
     "output_type": "display_data"
    }
   ],
   "source": [
    "%sql\n",
    "CREATE OR REPLACE TABLE transactions (\n",
    "  transaction_id INT,\n",
    "  customer_id INT,\n",
    "  amount INT,\n",
    "  tran_Date TIMESTAMP\n",
    ");"
   ]
  },
  {
   "cell_type": "code",
   "execution_count": 0,
   "metadata": {
    "application/vnd.databricks.v1+cell": {
     "cellMetadata": {
      "byteLimit": 2048000,
      "implicitDf": true,
      "rowLimit": 10000
     },
     "inputWidgets": {},
     "nuid": "d2933a3f-0abf-4664-9bf2-3033bde6d3ac",
     "showTitle": false,
     "tableResultSettingsMap": {},
     "title": ""
    }
   },
   "outputs": [
    {
     "output_type": "display_data",
     "data": {
      "text/html": [
       "<style scoped>\n",
       "  .table-result-container {\n",
       "    max-height: 300px;\n",
       "    overflow: auto;\n",
       "  }\n",
       "  table, th, td {\n",
       "    border: 1px solid black;\n",
       "    border-collapse: collapse;\n",
       "  }\n",
       "  th, td {\n",
       "    padding: 5px;\n",
       "  }\n",
       "  th {\n",
       "    text-align: left;\n",
       "  }\n",
       "</style><div class='table-result-container'><table class='table-result'><thead style='background-color: white'><tr><th>num_affected_rows</th><th>num_inserted_rows</th></tr></thead><tbody><tr><td>18</td><td>18</td></tr></tbody></table></div>"
      ]
     },
     "metadata": {
      "application/vnd.databricks.v1+output": {
       "addedWidgets": {},
       "aggData": [],
       "aggError": "",
       "aggOverflow": false,
       "aggSchema": [],
       "aggSeriesLimitReached": false,
       "aggType": "",
       "arguments": {},
       "columnCustomDisplayInfos": {},
       "data": [
        [
         18,
         18
        ]
       ],
       "datasetInfos": [],
       "dbfsResultPath": null,
       "isJsonSchema": true,
       "metadata": {
        "isDbfsCommandResult": false
       },
       "overflow": false,
       "plotOptions": {
        "customPlotOptions": {},
        "displayType": "table",
        "pivotAggregation": null,
        "pivotColumns": null,
        "xColumns": null,
        "yColumns": null
       },
       "removedWidgets": [],
       "schema": [
        {
         "metadata": "{}",
         "name": "num_affected_rows",
         "type": "\"long\""
        },
        {
         "metadata": "{}",
         "name": "num_inserted_rows",
         "type": "\"long\""
        }
       ],
       "type": "table"
      }
     },
     "output_type": "display_data"
    }
   ],
   "source": [
    "%sql\n",
    "DELETE FROM transactions;\n",
    "INSERT INTO Transactions VALUES (1, 101, 500, '2025-01-01 10:00:01')\n",
    "  ,(2, 201, 500, '2025-01-01 10:00:01')\n",
    "  ,(3, 102, 300, '2025-01-02 00:50:01')\n",
    "  ,(4, 202, 300, '2025-01-02 00:50:01')\n",
    "  ,(5, 101, 700, '2025-01-03 06:00:01')\n",
    "  ,(6, 202, 700, '2025-01-03 06:00:01')\n",
    "  ,(7, 103, 200, '2025-01-04 03:00:01')\n",
    "  ,(8, 203, 200, '2025-01-04 03:00:01')\n",
    "  ,(9, 101, 400, '2025-01-05 00:10:01')\n",
    "  ,(10, 201, 400, '2025-01-05 00:10:01')\n",
    "  ,(11, 101, 500, '2025-01-07 10:10:01')\n",
    "  ,(12, 201, 500, '2025-01-07 10:10:01')\n",
    "  ,(13, 102, 200, '2025-01-03 10:50:01')\n",
    "  ,(14, 202, 200, '2025-01-03 10:50:01')\n",
    "  ,(15, 103, 500, '2025-01-01 11:00:01')\n",
    "  ,(16, 101, 500, '2025-01-01 11:00:01')\n",
    "  ,(17, 203, 200, '2025-11-01 11:00:01')\n",
    "  ,(18, 201, 200, '2025-11-01 11:00:01')"
   ]
  },
  {
   "cell_type": "code",
   "execution_count": 0,
   "metadata": {
    "application/vnd.databricks.v1+cell": {
     "cellMetadata": {
      "byteLimit": 2048000,
      "rowLimit": 10000
     },
     "inputWidgets": {},
     "nuid": "9fa3f4e6-19bf-4f1e-ae4a-eb21ec787333",
     "showTitle": false,
     "tableResultSettingsMap": {},
     "title": ""
    }
   },
   "outputs": [
    {
     "output_type": "display_data",
     "data": {
      "text/html": [
       "<style scoped>\n",
       "  .table-result-container {\n",
       "    max-height: 300px;\n",
       "    overflow: auto;\n",
       "  }\n",
       "  table, th, td {\n",
       "    border: 1px solid black;\n",
       "    border-collapse: collapse;\n",
       "  }\n",
       "  th, td {\n",
       "    padding: 5px;\n",
       "  }\n",
       "  th {\n",
       "    text-align: left;\n",
       "  }\n",
       "</style><div class='table-result-container'><table class='table-result'><thead style='background-color: white'><tr><th>customer_id</th><th>buyer_id</th><th>count(1)</th></tr></thead><tbody><tr><td>102</td><td>202</td><td>2</td></tr></tbody></table></div>"
      ]
     },
     "metadata": {
      "application/vnd.databricks.v1+output": {
       "addedWidgets": {},
       "aggData": [],
       "aggError": "",
       "aggOverflow": false,
       "aggSchema": [],
       "aggSeriesLimitReached": false,
       "aggType": "",
       "arguments": {},
       "columnCustomDisplayInfos": {},
       "data": [
        [
         102,
         202,
         2
        ]
       ],
       "datasetInfos": [],
       "dbfsResultPath": null,
       "isJsonSchema": true,
       "metadata": {
        "isDbfsCommandResult": false
       },
       "overflow": false,
       "plotOptions": {
        "customPlotOptions": {},
        "displayType": "table",
        "pivotAggregation": null,
        "pivotColumns": null,
        "xColumns": null,
        "yColumns": null
       },
       "removedWidgets": [],
       "schema": [
        {
         "metadata": "{}",
         "name": "customer_id",
         "type": "\"integer\""
        },
        {
         "metadata": "{}",
         "name": "buyer_id",
         "type": "\"integer\""
        },
        {
         "metadata": "{\"__autoGeneratedAlias\":\"true\"}",
         "name": "count(1)",
         "type": "\"long\""
        }
       ],
       "type": "table"
      }
     },
     "output_type": "display_data"
    }
   ],
   "source": [
    "%sql\n",
    "WITH CTE as (\n",
    "  select *, LEAD(customer_id, 1) OVER(ORDER BY transaction_id) as buyer_id\n",
    "  FROM\n",
    "  transactions\n",
    "),\n",
    "final as (\n",
    "  select * from CTE where transaction_id % 2 = 1\n",
    "),\n",
    "combination as (\n",
    "  select customer_id, buyer_id, count(*)\n",
    "  FROM\n",
    "  final\n",
    "  group by customer_id, buyer_id\n",
    "),\n",
    "fraud_customers as (\n",
    "  select customer_id as fraud FROM combination\n",
    "  INTERSECT\n",
    "  select buyer_id FROM combination\n",
    ")\n",
    "select *\n",
    "from combination\n",
    "where customer_id not in (select fraud from fraud_customers)\n",
    "and buyer_id not in (select fraud from fraud_customers)"
   ]
  }
 ],
 "metadata": {
  "application/vnd.databricks.v1+notebook": {
   "computePreferences": null,
   "dashboards": [],
   "environmentMetadata": {
    "base_environment": "",
    "client": "1"
   },
   "language": "python",
   "notebookMetadata": {
    "mostRecentlyExecutedCommandWithImplicitDF": {
     "commandId": 1460044225167580,
     "dataframes": [
      "_sqldf"
     ]
    },
    "pythonIndentUnit": 4
   },
   "notebookName": "Problem 1",
   "widgets": {}
  }
 },
 "nbformat": 4,
 "nbformat_minor": 0
}
